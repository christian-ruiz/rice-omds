{
 "cells": [
  {
   "cell_type": "code",
   "execution_count": 1,
   "metadata": {},
   "outputs": [],
   "source": [
    "import random as rand\n",
    "import numpy as np\n",
    "from scipy.stats import norm"
   ]
  },
  {
   "cell_type": "markdown",
   "metadata": {},
   "source": [
    "## Question 3\n",
    "1. Create a function to simulate a biased coin flip (75% H, 25% T)\n",
    "2. Create a function to emulate a fair coin flip from the biased coin function"
   ]
  },
  {
   "cell_type": "markdown",
   "metadata": {},
   "source": []
  },
  {
   "cell_type": "code",
   "execution_count": 4,
   "metadata": {},
   "outputs": [],
   "source": [
    "# biased coin flip\n",
    "def biased_coin_flip(h=0.75):\n",
    "    '''\n",
    "    Coin flip defining a default biased heads coin flip or can be defined by the user\n",
    "\n",
    "    Input:\n",
    "        h - Float to define how biased a coin flip will be to heads\n",
    "    \n",
    "    Return the results of the coin flip as a string heads or tails\n",
    "    '''\n",
    "    coin_flip = rand.random()\n",
    "\n",
    "    if coin_flip <= h:\n",
    "        return 'heads'\n",
    "    else:\n",
    "        return 'tails'"
   ]
  },
  {
   "cell_type": "code",
   "execution_count": 49,
   "metadata": {},
   "outputs": [],
   "source": [
    "# fair coin from biased coin\n",
    "def fair_from_biased(h=0.50, trials=100):\n",
    "    '''\n",
    "    Fair coin flip from a biased coin flip simulation\n",
    "\n",
    "    Input:\n",
    "        h - Float to define how biased the biased_coin_flip function will be\n",
    "        trials - Integer number of iterations to confirm a fair flip is being produced\n",
    "    \n",
    "    Return the results of the number of heads and tails that occurred in the simulation\n",
    "    '''\n",
    "    \n",
    "    fair_flip = 0\n",
    "\n",
    "    biased_h_count = 0\n",
    "    biased_t_count = 0\n",
    "\n",
    "    iterations = 0\n",
    "\n",
    "    total_trials = 0\n",
    "\n",
    "    while trials != iterations:\n",
    "\n",
    "        coin_flip_1 = biased_coin_flip(h)\n",
    "        coin_flip_2 = biased_coin_flip(h)\n",
    "\n",
    "        if coin_flip_1 != coin_flip_2:\n",
    "            fair_flip += 1\n",
    "            iterations += 1\n",
    "        else:\n",
    "            if coin_flip_1 == 'heads':\n",
    "                biased_h_count += 1\n",
    "                \n",
    "            else:\n",
    "                biased_t_count += 1\n",
    "        \n",
    "        total_trials += 1\n",
    "\n",
    "    return print('Fair Coin Flip Count: \\nFair Flip Count =',fair_flip,\n",
    "                 '\\n\\nBiased Coin Flip Count: \\nH =',biased_h_count,'\\nT =',biased_t_count,\n",
    "                 '\\n\\nTotal Number of Trials:',total_trials)\n",
    "\n",
    "\n"
   ]
  },
  {
   "cell_type": "code",
   "execution_count": 50,
   "metadata": {},
   "outputs": [
    {
     "name": "stdout",
     "output_type": "stream",
     "text": [
      "Fair Coin Flip Count: \n",
      "Fair Flip Count = 1000 \n",
      "\n",
      "Biased Coin Flip Count: \n",
      "H = 1539 \n",
      "T = 161 \n",
      "\n",
      "Total Number of Trials: 2700\n"
     ]
    }
   ],
   "source": [
    "# execute the function for testing\n",
    "fair_from_biased(0.75, 1000)"
   ]
  },
  {
   "cell_type": "markdown",
   "metadata": {},
   "source": [
    "## Question 4\n",
    "Generate samples from the inverse transform method created in question 4.a from the problem set"
   ]
  },
  {
   "cell_type": "code",
   "execution_count": 51,
   "metadata": {},
   "outputs": [],
   "source": [
    "# sampling from the inverse transform equation\n",
    "def itm_sampling(n=100):\n",
    "    '''\n",
    "    Inverse Transform Method sampling\n",
    "\n",
    "    Input:\n",
    "        n - Integer value, default of 100, to set for number of samples to perform\n",
    "\n",
    "    Return list of samples\n",
    "    '''\n",
    "\n",
    "    list_samples = []\n",
    "\n",
    "    for val in range(n):\n",
    "        x = rand.uniform(0, 1)\n",
    "\n",
    "        itm_sample = (16 * x)**(3/4)\n",
    "\n",
    "        list_samples.append(itm_sample)\n",
    "\n",
    "    return list_samples"
   ]
  },
  {
   "cell_type": "code",
   "execution_count": 57,
   "metadata": {},
   "outputs": [
    {
     "data": {
      "text/plain": [
       "[6.170465434928149,\n",
       " 0.09403713125048137,\n",
       " 5.859361730978934,\n",
       " 5.0705320082628855,\n",
       " 7.429631425292429,\n",
       " 1.5101798265555075,\n",
       " 7.259098419796885,\n",
       " 7.514381900178352,\n",
       " 0.5607681502902645,\n",
       " 2.942838804089391]"
      ]
     },
     "execution_count": 57,
     "metadata": {},
     "output_type": "execute_result"
    }
   ],
   "source": [
    "itm_sampling(10)"
   ]
  },
  {
   "cell_type": "code",
   "execution_count": 58,
   "metadata": {},
   "outputs": [
    {
     "data": {
      "text/plain": [
       "0.015152260201460524"
      ]
     },
     "execution_count": 58,
     "metadata": {},
     "output_type": "execute_result"
    }
   ],
   "source": [
    "(0.3455**(4/3))/16"
   ]
  },
  {
   "cell_type": "markdown",
   "metadata": {},
   "source": [
    "## Question 6\n",
    "Design a simulation-based approach to empirically validate the\n",
    "results from parts (a) and (b). Describe the steps involved and write a\n",
    "Python script to execute the simulation. How does the simulated\n",
    "probability compare with the theoretical predictions from the previous\n",
    "parts?"
   ]
  },
  {
   "cell_type": "code",
   "execution_count": 69,
   "metadata": {},
   "outputs": [
    {
     "name": "stdout",
     "output_type": "stream",
     "text": [
      "Sample Size 25: \n",
      "\n",
      "Empirical Probability = 0.7810\n",
      "\n",
      "Probability with Chebyshev Inequality: 0.36\n",
      "\n",
      "Probability with Central Limit Theorem: 0.7887\n"
     ]
    }
   ],
   "source": [
    "# Question 6.c\n",
    "def validate_results(mean, std, n, s):\n",
    "    '''\n",
    "    Simulate a population of measurements and obtain sample calculations to compare to theoretical results\n",
    "\n",
    "    Input:\n",
    "        mean - Integer value to represent mean of population\n",
    "        std - Integer value to represent standard deviation of population\n",
    "        n - Integer value to represent the number of values in the population\n",
    "        s - Integer value to represent the size of the sample being taken\n",
    "\n",
    "    Return print statement comparing the empirical results to the theoretical results\n",
    "    '''\n",
    "\n",
    "    sample_measurements_from_population = np.random.normal(mean, std, (n, s))\n",
    "\n",
    "    theoretical_diff_of_measurements_from_actual = std/4\n",
    "\n",
    "    sample_mean = np.mean(sample_measurements_from_population[:, :s], axis=1)\n",
    "    diff_of_mean_and_sample_mean = np.abs(sample_mean - mean)\n",
    "    probability = np.mean(diff_of_mean_and_sample_mean < theoretical_diff_of_measurements_from_actual)\n",
    "\n",
    "    return print(f\"Sample Size {s}: \\n\\nEmpirical Probability = {probability:.4f}\\n\\nProbability with Chebyshev Inequality: 0.36\\n\\nProbability with Central Limit Theorem: 0.7887\")\n",
    "\n",
    "validate_results(20, 10, 1000, 25)"
   ]
  }
 ],
 "metadata": {
  "kernelspec": {
   "display_name": "Python 3",
   "language": "python",
   "name": "python3"
  },
  "language_info": {
   "codemirror_mode": {
    "name": "ipython",
    "version": 3
   },
   "file_extension": ".py",
   "mimetype": "text/x-python",
   "name": "python",
   "nbconvert_exporter": "python",
   "pygments_lexer": "ipython3",
   "version": "3.10.5"
  },
  "orig_nbformat": 4
 },
 "nbformat": 4,
 "nbformat_minor": 2
}
