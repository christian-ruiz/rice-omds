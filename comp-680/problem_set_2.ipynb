{
 "cells": [
  {
   "cell_type": "code",
   "execution_count": 1,
   "metadata": {},
   "outputs": [],
   "source": [
    "import random as rand"
   ]
  },
  {
   "cell_type": "markdown",
   "metadata": {},
   "source": [
    "## Question 3\n",
    "1. Create a function to simulate a biased coin flip (75% H, 25% T)\n",
    "2. Create a function to emulate a fair coin flip from the biased coin function"
   ]
  },
  {
   "cell_type": "markdown",
   "metadata": {},
   "source": []
  },
  {
   "cell_type": "code",
   "execution_count": 4,
   "metadata": {},
   "outputs": [],
   "source": [
    "# biased coin flip\n",
    "def biased_coin_flip(h=0.75):\n",
    "    '''\n",
    "    Coin flip defining a default biased heads coin flip or can be defined by the user\n",
    "\n",
    "    Input:\n",
    "        h - Float to define how biased a coin flip will be to heads\n",
    "    \n",
    "    Return the results of the coin flip as a string heads or tails\n",
    "    '''\n",
    "    coin_flip = rand.random()\n",
    "\n",
    "    if coin_flip <= h:\n",
    "        return 'heads'\n",
    "    else:\n",
    "        return 'tails'"
   ]
  },
  {
   "cell_type": "code",
   "execution_count": 28,
   "metadata": {},
   "outputs": [],
   "source": [
    "# fair coin from biased coin\n",
    "def fair_from_biased(h=0.50, trials=100):\n",
    "    '''\n",
    "    Fair coin flip from a biased coin flip simulation\n",
    "\n",
    "    Input:\n",
    "        h - Float to define how biased the biased_coin_flip function will be\n",
    "        trials - Integer number of iterations to confirm a fair flip is being produced\n",
    "    \n",
    "    Return the results of the number of heads and tails that occurred in the simulation\n",
    "    '''\n",
    "    \n",
    "    fair_h_count = 0\n",
    "    fair_t_count = 0\n",
    "\n",
    "    biased_h_count = 0\n",
    "    biased_t_count = 0\n",
    "\n",
    "    iterations = 0\n",
    "\n",
    "    while trials != iterations:\n",
    "\n",
    "        coin_flip_1 = biased_coin_flip(h)\n",
    "        coin_flip_2 = biased_coin_flip(h)\n",
    "\n",
    "        if coin_flip_1 != coin_flip_2:\n",
    "            fair_h_count += 1\n",
    "            fair_t_count +=1\n",
    "            iterations += 1\n",
    "        else:\n",
    "            if coin_flip_1 == 'heads':\n",
    "                biased_h_count += 1\n",
    "                \n",
    "            else:\n",
    "                biased_t_count += 1\n",
    "\n",
    "    return print('Fair Coin Flip Count: \\nH =',fair_h_count,'\\nT =',fair_t_count,\n",
    "                 '\\n\\nUnfair Coin Flip Count: \\nH =',biased_h_count,'\\nT =',biased_t_count)\n",
    "\n",
    "\n"
   ]
  },
  {
   "cell_type": "code",
   "execution_count": 40,
   "metadata": {},
   "outputs": [
    {
     "name": "stdout",
     "output_type": "stream",
     "text": [
      "Fair Coin Flip Count: \n",
      "H = 1000 \n",
      "T = 1000 \n",
      "\n",
      "Unfair Coin Flip Count: \n",
      "H = 1460 \n",
      "T = 148\n"
     ]
    }
   ],
   "source": [
    "fair_from_biased(0.75, 1000)"
   ]
  },
  {
   "cell_type": "code",
   "execution_count": null,
   "metadata": {},
   "outputs": [],
   "source": []
  }
 ],
 "metadata": {
  "kernelspec": {
   "display_name": "Python 3",
   "language": "python",
   "name": "python3"
  },
  "language_info": {
   "codemirror_mode": {
    "name": "ipython",
    "version": 3
   },
   "file_extension": ".py",
   "mimetype": "text/x-python",
   "name": "python",
   "nbconvert_exporter": "python",
   "pygments_lexer": "ipython3",
   "version": "3.10.5"
  },
  "orig_nbformat": 4
 },
 "nbformat": 4,
 "nbformat_minor": 2
}
